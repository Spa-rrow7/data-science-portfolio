{
 "cells": [
  {
   "cell_type": "code",
   "execution_count": 76,
   "id": "2b5eec94-2b6d-4c1e-bb68-1c53a58abd82",
   "metadata": {},
   "outputs": [],
   "source": [
    "from sqlalchemy import create_engine, Column, Integer, String, Float, DateTime, ForeignKey, text\n",
    "from sqlalchemy.ext.declarative import declarative_base\n",
    "from sqlalchemy.orm import sessionmaker, relationship\n",
    "from faker import Faker\n",
    "import random\n",
    "import pandas as pd\n",
    "import matplotlib.pyplot as plt\n",
    "import seaborn as sns\n",
    "from datetime import datetime"
   ]
  },
  {
   "cell_type": "code",
   "execution_count": 78,
   "id": "37d61ec9-1578-460e-9fde-f9036ec61d20",
   "metadata": {},
   "outputs": [],
   "source": [
    "user = \"test\"\n",
    "password = \"1\"\n",
    "host = \"localhost\"\n",
    "port = 5432\n",
    "database = \"postgres\""
   ]
  },
  {
   "cell_type": "code",
   "execution_count": 80,
   "id": "b439e9b9-5b3f-4661-9ef2-c9dd5d6fc70c",
   "metadata": {},
   "outputs": [],
   "source": [
    "engine = create_engine(f\"postgresql+psycopg2://{user}:{password}@{host}:{port}/{database}\")"
   ]
  },
  {
   "cell_type": "code",
   "execution_count": 113,
   "id": "c0867720-c03a-4c68-b277-fb09cfa7b099",
   "metadata": {},
   "outputs": [
    {
     "data": {
      "text/plain": [
       "<sqlalchemy.engine.base.Connection at 0x23bea5051c0>"
      ]
     },
     "execution_count": 113,
     "metadata": {},
     "output_type": "execute_result"
    }
   ],
   "source": [
    "engine.connect()"
   ]
  },
  {
   "cell_type": "code",
   "execution_count": 115,
   "id": "d12d142b-29d8-4ab3-848c-0be6ca5115e1",
   "metadata": {},
   "outputs": [],
   "source": [
    "Base = declarative_base()"
   ]
  },
  {
   "cell_type": "markdown",
   "id": "6f33a242-ace5-4a9a-a5b8-11e3994c9ac8",
   "metadata": {},
   "source": [
    "# Таблицы ORM (PostgreSQL)"
   ]
  },
  {
   "cell_type": "code",
   "execution_count": 118,
   "id": "4e7ccb04-db8f-4692-8fe8-79fe41e2830e",
   "metadata": {
    "scrolled": true
   },
   "outputs": [],
   "source": [
    "class Customer(Base):\n",
    "    __tablename__ = 'customers'\n",
    "    id = Column(Integer, primary_key=True)\n",
    "    name = Column(String)\n",
    "    email = Column(String)\n",
    "    city = Column(String)\n",
    "    created_at = Column(DateTime, default=datetime.utcnow)\n",
    "    orders = relationship(\"Order\", back_populates=\"customer\")\n",
    "\n",
    "class Product(Base):\n",
    "    __tablename__ = 'products'\n",
    "    id = Column(Integer, primary_key=True)\n",
    "    name = Column(String)\n",
    "    category = Column(String)\n",
    "    price = Column(Float)\n",
    "\n",
    "class Order(Base):\n",
    "    __tablename__ = 'orders'\n",
    "    id = Column(Integer, primary_key=True)\n",
    "    customer_id = Column(Integer, ForeignKey(\"customers.id\"))\n",
    "    order_date = Column(DateTime, default=datetime.utcnow)\n",
    "    customer = relationship(\"Customer\", back_populates=\"orders\")\n",
    "    items = relationship(\"OrderItem\", back_populates=\"order\")\n",
    "\n",
    "class OrderItem(Base):\n",
    "    __tablename__ = 'order_items'\n",
    "    id = Column(Integer, primary_key=True)\n",
    "    order_id = Column(Integer, ForeignKey(\"orders.id\"))\n",
    "    product_id = Column(Integer, ForeignKey(\"products.id\"))\n",
    "    quantity = Column(Integer)\n",
    "    order = relationship(\"Order\", back_populates=\"items\")\n",
    "\n",
    "class Payment(Base):\n",
    "    __tablename__ = 'payments'\n",
    "    id = Column(Integer, primary_key=True)\n",
    "    order_id = Column(Integer, ForeignKey('orders.id'))\n",
    "    amount = Column(Float)\n",
    "    payment_date = Column(DateTime, default=datetime.utcnow)\n",
    "    method = Column(String)  # card, paypal, crypto\n",
    "\n",
    "class Return(Base):\n",
    "    __tablename__ = 'returns'\n",
    "    id = Column(Integer, primary_key=True)\n",
    "    order_item_id = Column(Integer, ForeignKey('order_items.id'))\n",
    "    reason = Column(String)\n",
    "    return_date = Column(DateTime, default=datetime.utcnow)\n",
    "\n",
    "class Discount(Base):\n",
    "    __tablename__ = 'discounts'\n",
    "    id = Column(Integer, primary_key=True)\n",
    "    product_id = Column(Integer, ForeignKey('products.id'))\n",
    "    discount_percent = Column(Float)\n",
    "    start_date = Column(DateTime)\n",
    "    end_date = Column(DateTime)"
   ]
  },
  {
   "cell_type": "markdown",
   "id": "512c23ab-fc56-48b3-be0d-c04f53b19a4f",
   "metadata": {},
   "source": [
    "# Создаем все таблицы в базе и сессию для работы с БД"
   ]
  },
  {
   "cell_type": "code",
   "execution_count": 104,
   "id": "53e69c13-ebf3-49ed-9d02-f9e426af4b04",
   "metadata": {},
   "outputs": [],
   "source": [
    "Base.metadata.drop_all(engine)  # Удаление старых таблиц"
   ]
  },
  {
   "cell_type": "code",
   "execution_count": 121,
   "id": "0e7e393f-2471-4a57-b3b4-fdf5afd33f80",
   "metadata": {},
   "outputs": [],
   "source": [
    "Base.metadata.create_all(engine)\n",
    "Session = sessionmaker(bind=engine)\n",
    "session = Session()"
   ]
  },
  {
   "cell_type": "markdown",
   "id": "9e1feb5a-3b2b-4688-a78d-fcc5eaf68b02",
   "metadata": {},
   "source": [
    "# Генерация данных с помощью Faker"
   ]
  },
  {
   "cell_type": "code",
   "execution_count": 124,
   "id": "191a0f42-0dcf-485b-bfee-c2d6323d3153",
   "metadata": {},
   "outputs": [],
   "source": [
    "fake = Faker()"
   ]
  },
  {
   "cell_type": "code",
   "execution_count": 126,
   "id": "269cdf05-9600-4832-acde-4bc9fa0043e8",
   "metadata": {},
   "outputs": [],
   "source": [
    "# Генерация клиентов\n",
    "customers = [Customer(name=fake.name(), email=fake.email(), city=fake.city()) for _ in range(30)]\n",
    "session.add_all(customers)\n",
    "session.commit()"
   ]
  },
  {
   "cell_type": "code",
   "execution_count": 128,
   "id": "95eda90c-aecb-4b18-a899-4e0b5fab1308",
   "metadata": {},
   "outputs": [],
   "source": [
    "# Генерация продуктов\n",
    "categories = ['Electronics', 'Books', 'Clothing', 'Toys']\n",
    "products = [Product(name=fake.word().capitalize(), category=random.choice(categories), price=round(random.uniform(10, 500), 2)) for _ in range(20)]\n",
    "session.add_all(products)\n",
    "session.commit()"
   ]
  },
  {
   "cell_type": "code",
   "execution_count": 130,
   "id": "3c56743f-0a0e-4f68-b519-ec923a39344a",
   "metadata": {},
   "outputs": [],
   "source": [
    "# Генерация заказов и позиций\n",
    "for _ in range(50):\n",
    "    customer = random.choice(customers)\n",
    "    order = Order(customer_id=customer.id)\n",
    "    session.add(order)\n",
    "    session.commit()\n",
    "\n",
    "    for _ in range(random.randint(1, 5)):\n",
    "        item = OrderItem(order_id=order.id, product_id=random.choice(products).id, quantity=random.randint(1, 3))\n",
    "        session.add(item)\n",
    "\n",
    "session.commit()"
   ]
  },
  {
   "cell_type": "code",
   "execution_count": 132,
   "id": "1bda26e6-e6df-4db2-af60-349503520962",
   "metadata": {},
   "outputs": [],
   "source": [
    "# Генерация платежей\n",
    "orders = session.query(Order).all()\n",
    "methods = ['card', 'paypal', 'crypto']\n",
    "for order in orders:\n",
    "    amount = sum(item.quantity * session.query(Product).get(item.product_id).price for item in order.items)\n",
    "    payment = Payment(order_id=order.id, amount=amount, method=random.choice(methods))\n",
    "    session.add(payment)\n",
    "\n",
    "session.commit()"
   ]
  },
  {
   "cell_type": "code",
   "execution_count": 134,
   "id": "b4a090ab-30d0-44b7-86eb-5644a0335f4b",
   "metadata": {},
   "outputs": [],
   "source": [
    "# Генерация возвратов\n",
    "order_items = session.query(OrderItem).all()\n",
    "for order_item in order_items:\n",
    "    if random.random() < 0.1:  # 10% возвратов\n",
    "        return_item = Return(order_item_id=order_item.id, reason=fake.sentence())\n",
    "        session.add(return_item)\n",
    "\n",
    "session.commit()"
   ]
  },
  {
   "cell_type": "markdown",
   "id": "f29a41fb-491d-41e7-8057-4a40d45e301b",
   "metadata": {},
   "source": [
    "# Запросы SQL для анализа"
   ]
  },
  {
   "cell_type": "code",
   "execution_count": 192,
   "id": "9477d81d-5149-41d3-a48f-91ee3f9f9733",
   "metadata": {},
   "outputs": [],
   "source": [
    "def select(sql):\n",
    "    with engine.connect() as conn:\n",
    "        result = conn.execute(text(sql))\n",
    "        return pd.DataFrame(result.fetchall(), columns=result.keys())"
   ]
  },
  {
   "cell_type": "code",
   "execution_count": 200,
   "id": "8662c358-aeb2-4181-8026-23abfc8bfe93",
   "metadata": {},
   "outputs": [
    {
     "data": {
      "text/html": [
       "<div>\n",
       "<style scoped>\n",
       "    .dataframe tbody tr th:only-of-type {\n",
       "        vertical-align: middle;\n",
       "    }\n",
       "\n",
       "    .dataframe tbody tr th {\n",
       "        vertical-align: top;\n",
       "    }\n",
       "\n",
       "    .dataframe thead th {\n",
       "        text-align: right;\n",
       "    }\n",
       "</style>\n",
       "<table border=\"1\" class=\"dataframe\">\n",
       "  <thead>\n",
       "    <tr style=\"text-align: right;\">\n",
       "      <th></th>\n",
       "      <th>name</th>\n",
       "      <th>total</th>\n",
       "    </tr>\n",
       "  </thead>\n",
       "  <tbody>\n",
       "    <tr>\n",
       "      <th>0</th>\n",
       "      <td>Region</td>\n",
       "      <td>32</td>\n",
       "    </tr>\n",
       "    <tr>\n",
       "      <th>1</th>\n",
       "      <td>Card</td>\n",
       "      <td>20</td>\n",
       "    </tr>\n",
       "    <tr>\n",
       "      <th>2</th>\n",
       "      <td>Mrs</td>\n",
       "      <td>20</td>\n",
       "    </tr>\n",
       "    <tr>\n",
       "      <th>3</th>\n",
       "      <td>Hard</td>\n",
       "      <td>20</td>\n",
       "    </tr>\n",
       "    <tr>\n",
       "      <th>4</th>\n",
       "      <td>Fall</td>\n",
       "      <td>19</td>\n",
       "    </tr>\n",
       "  </tbody>\n",
       "</table>\n",
       "</div>"
      ],
      "text/plain": [
       "     name  total\n",
       "0  Region     32\n",
       "1    Card     20\n",
       "2     Mrs     20\n",
       "3    Hard     20\n",
       "4    Fall     19"
      ]
     },
     "execution_count": 200,
     "metadata": {},
     "output_type": "execute_result"
    }
   ],
   "source": [
    "# Топ 5 товаров по количеству продаж\n",
    "select(\"\"\"\n",
    "SELECT p.name, SUM(oi.quantity) as total\n",
    "FROM order_items oi\n",
    "JOIN products p ON oi.product_id = p.id\n",
    "GROUP BY p.name\n",
    "ORDER BY total DESC\n",
    "LIMIT 5;\n",
    "\"\"\")"
   ]
  },
  {
   "cell_type": "code",
   "execution_count": 202,
   "id": "f7b9af87-8bdf-478a-bd15-80d639ec7435",
   "metadata": {},
   "outputs": [
    {
     "data": {
      "text/html": [
       "<div>\n",
       "<style scoped>\n",
       "    .dataframe tbody tr th:only-of-type {\n",
       "        vertical-align: middle;\n",
       "    }\n",
       "\n",
       "    .dataframe tbody tr th {\n",
       "        vertical-align: top;\n",
       "    }\n",
       "\n",
       "    .dataframe thead th {\n",
       "        text-align: right;\n",
       "    }\n",
       "</style>\n",
       "<table border=\"1\" class=\"dataframe\">\n",
       "  <thead>\n",
       "    <tr style=\"text-align: right;\">\n",
       "      <th></th>\n",
       "      <th>category</th>\n",
       "      <th>revenue</th>\n",
       "    </tr>\n",
       "  </thead>\n",
       "  <tbody>\n",
       "    <tr>\n",
       "      <th>0</th>\n",
       "      <td>Clothing</td>\n",
       "      <td>40132.66</td>\n",
       "    </tr>\n",
       "    <tr>\n",
       "      <th>1</th>\n",
       "      <td>Books</td>\n",
       "      <td>20856.81</td>\n",
       "    </tr>\n",
       "    <tr>\n",
       "      <th>2</th>\n",
       "      <td>Electronics</td>\n",
       "      <td>16740.44</td>\n",
       "    </tr>\n",
       "    <tr>\n",
       "      <th>3</th>\n",
       "      <td>Toys</td>\n",
       "      <td>11165.56</td>\n",
       "    </tr>\n",
       "  </tbody>\n",
       "</table>\n",
       "</div>"
      ],
      "text/plain": [
       "      category   revenue\n",
       "0     Clothing  40132.66\n",
       "1        Books  20856.81\n",
       "2  Electronics  16740.44\n",
       "3         Toys  11165.56"
      ]
     },
     "execution_count": 202,
     "metadata": {},
     "output_type": "execute_result"
    }
   ],
   "source": [
    "# 2. Доход по категориям\n",
    "select(\"\"\"\n",
    "SELECT p.category, SUM(oi.quantity * p.price) AS revenue\n",
    "FROM order_items oi\n",
    "JOIN products p ON oi.product_id = p.id\n",
    "GROUP BY p.category\n",
    "ORDER BY revenue DESC;\n",
    "\"\"\")"
   ]
  },
  {
   "cell_type": "code",
   "execution_count": 204,
   "id": "ed73b464-4ee5-485e-9717-f14a7c3ea719",
   "metadata": {},
   "outputs": [
    {
     "data": {
      "text/html": [
       "<div>\n",
       "<style scoped>\n",
       "    .dataframe tbody tr th:only-of-type {\n",
       "        vertical-align: middle;\n",
       "    }\n",
       "\n",
       "    .dataframe tbody tr th {\n",
       "        vertical-align: top;\n",
       "    }\n",
       "\n",
       "    .dataframe thead th {\n",
       "        text-align: right;\n",
       "    }\n",
       "</style>\n",
       "<table border=\"1\" class=\"dataframe\">\n",
       "  <thead>\n",
       "    <tr style=\"text-align: right;\">\n",
       "      <th></th>\n",
       "      <th>name</th>\n",
       "      <th>total_spent</th>\n",
       "    </tr>\n",
       "  </thead>\n",
       "  <tbody>\n",
       "    <tr>\n",
       "      <th>0</th>\n",
       "      <td>Lisa Bernard</td>\n",
       "      <td>11656.70</td>\n",
       "    </tr>\n",
       "    <tr>\n",
       "      <th>1</th>\n",
       "      <td>Matthew Martin</td>\n",
       "      <td>8950.23</td>\n",
       "    </tr>\n",
       "    <tr>\n",
       "      <th>2</th>\n",
       "      <td>Julie Thomas</td>\n",
       "      <td>6930.18</td>\n",
       "    </tr>\n",
       "    <tr>\n",
       "      <th>3</th>\n",
       "      <td>Courtney Thomas</td>\n",
       "      <td>5281.61</td>\n",
       "    </tr>\n",
       "    <tr>\n",
       "      <th>4</th>\n",
       "      <td>William Lee</td>\n",
       "      <td>4491.56</td>\n",
       "    </tr>\n",
       "  </tbody>\n",
       "</table>\n",
       "</div>"
      ],
      "text/plain": [
       "              name  total_spent\n",
       "0     Lisa Bernard     11656.70\n",
       "1   Matthew Martin      8950.23\n",
       "2     Julie Thomas      6930.18\n",
       "3  Courtney Thomas      5281.61\n",
       "4      William Lee      4491.56"
      ]
     },
     "execution_count": 204,
     "metadata": {},
     "output_type": "execute_result"
    }
   ],
   "source": [
    "# 3. Топ 5 покупателей по сумме покупок\n",
    "select(\"\"\"\n",
    "SELECT c.name, SUM(oi.quantity * p.price) AS total_spent\n",
    "FROM customers c\n",
    "JOIN orders o ON c.id = o.customer_id\n",
    "JOIN order_items oi ON o.id = oi.order_id\n",
    "JOIN products p ON oi.product_id = p.id\n",
    "GROUP BY c.name\n",
    "ORDER BY total_spent DESC\n",
    "LIMIT 5;\n",
    "\"\"\")"
   ]
  },
  {
   "cell_type": "code",
   "execution_count": 206,
   "id": "7edac8ef-86cf-447e-bfe5-1d2ff5272ebd",
   "metadata": {},
   "outputs": [
    {
     "data": {
      "text/html": [
       "<div>\n",
       "<style scoped>\n",
       "    .dataframe tbody tr th:only-of-type {\n",
       "        vertical-align: middle;\n",
       "    }\n",
       "\n",
       "    .dataframe tbody tr th {\n",
       "        vertical-align: top;\n",
       "    }\n",
       "\n",
       "    .dataframe thead th {\n",
       "        text-align: right;\n",
       "    }\n",
       "</style>\n",
       "<table border=\"1\" class=\"dataframe\">\n",
       "  <thead>\n",
       "    <tr style=\"text-align: right;\">\n",
       "      <th></th>\n",
       "      <th>name</th>\n",
       "      <th>returns_count</th>\n",
       "    </tr>\n",
       "  </thead>\n",
       "  <tbody>\n",
       "    <tr>\n",
       "      <th>0</th>\n",
       "      <td>Region</td>\n",
       "      <td>3</td>\n",
       "    </tr>\n",
       "    <tr>\n",
       "      <th>1</th>\n",
       "      <td>Say</td>\n",
       "      <td>2</td>\n",
       "    </tr>\n",
       "    <tr>\n",
       "      <th>2</th>\n",
       "      <td>Stuff</td>\n",
       "      <td>2</td>\n",
       "    </tr>\n",
       "    <tr>\n",
       "      <th>3</th>\n",
       "      <td>Hard</td>\n",
       "      <td>2</td>\n",
       "    </tr>\n",
       "    <tr>\n",
       "      <th>4</th>\n",
       "      <td>Cell</td>\n",
       "      <td>2</td>\n",
       "    </tr>\n",
       "    <tr>\n",
       "      <th>5</th>\n",
       "      <td>Significant</td>\n",
       "      <td>2</td>\n",
       "    </tr>\n",
       "    <tr>\n",
       "      <th>6</th>\n",
       "      <td>Card</td>\n",
       "      <td>2</td>\n",
       "    </tr>\n",
       "    <tr>\n",
       "      <th>7</th>\n",
       "      <td>Mrs</td>\n",
       "      <td>1</td>\n",
       "    </tr>\n",
       "    <tr>\n",
       "      <th>8</th>\n",
       "      <td>Tree</td>\n",
       "      <td>1</td>\n",
       "    </tr>\n",
       "    <tr>\n",
       "      <th>9</th>\n",
       "      <td>Fall</td>\n",
       "      <td>1</td>\n",
       "    </tr>\n",
       "  </tbody>\n",
       "</table>\n",
       "</div>"
      ],
      "text/plain": [
       "          name  returns_count\n",
       "0       Region              3\n",
       "1          Say              2\n",
       "2        Stuff              2\n",
       "3         Hard              2\n",
       "4         Cell              2\n",
       "5  Significant              2\n",
       "6         Card              2\n",
       "7          Mrs              1\n",
       "8         Tree              1\n",
       "9         Fall              1"
      ]
     },
     "execution_count": 206,
     "metadata": {},
     "output_type": "execute_result"
    }
   ],
   "source": [
    "# 4. Возвраты по товарам\n",
    "select(\"\"\"\n",
    "SELECT p.name, COUNT(r.id) AS returns_count\n",
    "FROM returns r\n",
    "JOIN order_items oi ON r.order_item_id = oi.id\n",
    "JOIN products p ON oi.product_id = p.id\n",
    "GROUP BY p.name\n",
    "ORDER BY returns_count DESC;\n",
    "\"\"\")"
   ]
  },
  {
   "cell_type": "markdown",
   "id": "e2cffeb0-0a0b-40d6-ad74-817aa0d25c9f",
   "metadata": {},
   "source": [
    "# Визуализация данных"
   ]
  },
  {
   "cell_type": "code",
   "execution_count": 211,
   "id": "da8c630b-2cd1-439a-b2c3-5ae461d95c3c",
   "metadata": {},
   "outputs": [],
   "source": [
    "top_products = select(\"\"\"\n",
    "                    SELECT p.name, SUM(oi.quantity) as total\n",
    "                    FROM order_items oi\n",
    "                    JOIN products p ON oi.product_id = p.id\n",
    "                    GROUP BY p.name\n",
    "                    ORDER BY total DESC\n",
    "                    LIMIT 5\"\"\")"
   ]
  },
  {
   "cell_type": "code",
   "execution_count": 233,
   "id": "f0e794e7-6497-493e-ac86-1d990b476c4d",
   "metadata": {},
   "outputs": [
    {
     "name": "stderr",
     "output_type": "stream",
     "text": [
      "C:\\Users\\kushh\\AppData\\Local\\Temp\\ipykernel_39992\\916385646.py:1: FutureWarning: \n",
      "\n",
      "Passing `palette` without assigning `hue` is deprecated and will be removed in v0.14.0. Assign the `x` variable to `hue` and set `legend=False` for the same effect.\n",
      "\n",
      "  sns.barplot(data=top_products, y=\"total\", x=\"name\", palette=\"viridis\")\n"
     ]
    },
    {
     "data": {
      "image/png": "[encoded data removed]",
      "text/plain": [
       "<Figure size 640x480 with 1 Axes>"
      ]
     },
     "metadata": {},
     "output_type": "display_data"
    }
   ],
   "source": [
    "sns.barplot(data=top_products, y=\"total\", x=\"name\", palette=\"viridis\")\n",
    "plt.title(\"Top 5 Best-Selling Products\")\n",
    "plt.ylabel(\"Total\")\n",
    "plt.xlabel(\"Product\")\n",
    "plt.savefig(\"images/top5_products.png\", bbox_inches='tight')\n",
    "plt.show();"
   ]
  },
  {
   "cell_type": "code",
   "execution_count": 217,
   "id": "ca22eca4-30c7-436d-888f-cd05d7a04fae",
   "metadata": {},
   "outputs": [],
   "source": [
    "top_customers = select(\"\"\"\n",
    "SELECT c.name, SUM(oi.quantity * p.price) AS total_spent\n",
    "FROM customers c\n",
    "JOIN orders o ON c.id = o.customer_id\n",
    "JOIN order_items oi ON o.id = oi.order_id\n",
    "JOIN products p ON oi.product_id = p.id\n",
    "GROUP BY c.name\n",
    "ORDER BY total_spent DESC\n",
    "LIMIT 5;\n",
    "\"\"\")"
   ]
  },
  {
   "cell_type": "code",
   "execution_count": 235,
   "id": "f88a9aa3-27b4-4dbf-b005-e503e93c11ef",
   "metadata": {},
   "outputs": [
    {
     "name": "stderr",
     "output_type": "stream",
     "text": [
      "C:\\Users\\kushh\\AppData\\Local\\Temp\\ipykernel_39992\\2679814883.py:1: FutureWarning: \n",
      "\n",
      "Passing `palette` without assigning `hue` is deprecated and will be removed in v0.14.0. Assign the `x` variable to `hue` and set `legend=False` for the same effect.\n",
      "\n",
      "  sns.barplot(data=top_customers, y=\"total_spent\", x=\"name\", palette=\"rocket\")\n"
     ]
    },
    {
     "data": {
      "image/png": "[encoded data removed]",
      "text/plain": [
       "<Figure size 640x480 with 1 Axes>"
      ]
     },
     "metadata": {},
     "output_type": "display_data"
    }
   ],
   "source": [
    "sns.barplot(data=top_customers, y=\"total_spent\", x=\"name\", palette=\"rocket\")\n",
    "plt.title(\"Top 5 Customers by Total Spent\")\n",
    "plt.ylabel(\"Total\")\n",
    "plt.xlabel(\"Customer\")\n",
    "plt.xticks(rotation = 30)\n",
    "plt.savefig(\"images/top_customers.png\", bbox_inches='tight')\n",
    "plt.show();"
   ]
  },
  {
   "cell_type": "code",
   "execution_count": 237,
   "id": "2b9fc268-fe7b-417b-81c5-400b6927b87e",
   "metadata": {},
   "outputs": [],
   "source": [
    "# 4. Возвраты по товарам\n",
    "returns = select(\"\"\"\n",
    "SELECT p.name, COUNT(r.id) AS returns_count\n",
    "FROM returns r\n",
    "JOIN order_items oi ON r.order_item_id = oi.id\n",
    "JOIN products p ON oi.product_id = p.id\n",
    "GROUP BY p.name\n",
    "ORDER BY returns_count DESC;\n",
    "\"\"\")"
   ]
  },
  {
   "cell_type": "code",
   "execution_count": 245,
   "id": "7b16a46c-aae0-4305-b0cc-2fdce8a0b9cc",
   "metadata": {},
   "outputs": [
    {
     "name": "stderr",
     "output_type": "stream",
     "text": [
      "C:\\Users\\kushh\\AppData\\Local\\Temp\\ipykernel_39992\\3325783733.py:1: FutureWarning: \n",
      "\n",
      "Passing `palette` without assigning `hue` is deprecated and will be removed in v0.14.0. Assign the `x` variable to `hue` and set `legend=False` for the same effect.\n",
      "\n",
      "  sns.barplot(data=returns, y=\"returns_count\", x=\"name\", palette=\"magma\")\n"
     ]
    },
    {
     "data": {
      "image/png": "[encoded data removed]",
      "text/plain": [
       "<Figure size 640x480 with 1 Axes>"
      ]
     },
     "metadata": {},
     "output_type": "display_data"
    }
   ],
   "source": [
    "sns.barplot(data=returns, y=\"returns_count\", x=\"name\", palette=\"magma\")\n",
    "plt.title(\"Returns by Product\")\n",
    "plt.ylabel(\"Returns Count\")\n",
    "plt.xlabel(\"Product\")\n",
    "plt.xticks(rotation = 90)\n",
    "plt.savefig(\"images/returns.png\", bbox_inches='tight')\n",
    "plt.show();"
   ]
  },
  {
   "cell_type": "code",
   "execution_count": null,
   "id": "34014170-4898-4773-a988-106ffa4bffa8",
   "metadata": {},
   "outputs": [],
   "source": []
  }
 ],
 "metadata": {
  "kernelspec": {
   "display_name": "Python 3 (ipykernel)",
   "language": "python",
   "name": "python3"
  },
  "language_info": {
   "codemirror_mode": {
    "name": "ipython",
    "version": 3
   },
   "file_extension": ".py",
   "mimetype": "text/x-python",
   "name": "python",
   "nbconvert_exporter": "python",
   "pygments_lexer": "ipython3",
   "version": "3.12.7"
  }
 },
 "nbformat": 4,
 "nbformat_minor": 5
}
